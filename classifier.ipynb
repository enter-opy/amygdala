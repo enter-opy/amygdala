{
 "cells": [
  {
   "cell_type": "code",
   "execution_count": 21,
   "id": "11d0bb4e",
   "metadata": {},
   "outputs": [],
   "source": [
    "import json\n",
    "import numpy as np\n",
    "from sklearn.model_selection import train_test_split\n",
    "import tensorflow.keras as keras\n",
    "import matplotlib.pyplot as plt"
   ]
  },
  {
   "cell_type": "code",
   "execution_count": 22,
   "id": "c30dbd95",
   "metadata": {},
   "outputs": [],
   "source": [
    "dataset_path = 'data.json'"
   ]
  },
  {
   "cell_type": "code",
   "execution_count": 23,
   "id": "2a640ac4",
   "metadata": {},
   "outputs": [],
   "source": [
    "with open(dataset_path, 'r') as fp:\n",
    "    data = json.load(fp)"
   ]
  },
  {
   "cell_type": "code",
   "execution_count": 24,
   "id": "52d7b733",
   "metadata": {},
   "outputs": [],
   "source": [
    "inputs = np.array(data['mfcc'])\n",
    "targets = np.array(data['labels'])"
   ]
  },
  {
   "cell_type": "code",
   "execution_count": 25,
   "id": "1d687cbf",
   "metadata": {},
   "outputs": [],
   "source": [
    "X_train, X_test, y_train, y_test = train_test_split(inputs, targets, test_size=0.3)"
   ]
  },
  {
   "cell_type": "code",
   "execution_count": 26,
   "id": "7281a66e",
   "metadata": {},
   "outputs": [
    {
     "data": {
      "text/plain": [
       "(4993, 259, 13)"
      ]
     },
     "execution_count": 26,
     "metadata": {},
     "output_type": "execute_result"
    }
   ],
   "source": [
    "inputs.shape"
   ]
  },
  {
   "cell_type": "code",
   "execution_count": 27,
   "id": "13274f21",
   "metadata": {},
   "outputs": [],
   "source": [
    "model = keras.Sequential([\n",
    "    keras.layers.Flatten(input_shape=(inputs.shape[1], inputs.shape[2])),\n",
    "    \n",
    "    keras.layers.Dense(512, activation='relu', kernel_regularizer=keras.regularizers.l2(0.001)),\n",
    "    keras.layers.Dropout(0.3),\n",
    "    \n",
    "    keras.layers.Dense(256, activation='relu', kernel_regularizer=keras.regularizers.l2(0.001)),\n",
    "    keras.layers.Dropout(0.3),\n",
    "    \n",
    "    keras.layers.Dense(64, activation='relu', kernel_regularizer=keras.regularizers.l2(0.001)),\n",
    "    keras.layers.Dropout(0.3),\n",
    "    \n",
    "    keras.layers.Dense(10, activation='softmax')\n",
    "])"
   ]
  },
  {
   "cell_type": "code",
   "execution_count": 28,
   "id": "2ba8b2d2",
   "metadata": {},
   "outputs": [],
   "source": [
    "model.compile(optimizer=keras.optimizers.Adam(learning_rate=0.0001),\n",
    "             loss='sparse_categorical_crossentropy',\n",
    "             metrics=['accuracy'])"
   ]
  },
  {
   "cell_type": "code",
   "execution_count": 29,
   "id": "375eeb61",
   "metadata": {},
   "outputs": [
    {
     "name": "stdout",
     "output_type": "stream",
     "text": [
      "Model: \"sequential_2\"\n",
      "_________________________________________________________________\n",
      " Layer (type)                Output Shape              Param #   \n",
      "=================================================================\n",
      " flatten_2 (Flatten)         (None, 3367)              0         \n",
      "                                                                 \n",
      " dense_8 (Dense)             (None, 512)               1724416   \n",
      "                                                                 \n",
      " dropout_3 (Dropout)         (None, 512)               0         \n",
      "                                                                 \n",
      " dense_9 (Dense)             (None, 256)               131328    \n",
      "                                                                 \n",
      " dropout_4 (Dropout)         (None, 256)               0         \n",
      "                                                                 \n",
      " dense_10 (Dense)            (None, 64)                16448     \n",
      "                                                                 \n",
      " dropout_5 (Dropout)         (None, 64)                0         \n",
      "                                                                 \n",
      " dense_11 (Dense)            (None, 10)                650       \n",
      "                                                                 \n",
      "=================================================================\n",
      "Total params: 1,872,842\n",
      "Trainable params: 1,872,842\n",
      "Non-trainable params: 0\n",
      "_________________________________________________________________\n"
     ]
    }
   ],
   "source": [
    "model.summary()"
   ]
  },
  {
   "cell_type": "code",
   "execution_count": 30,
   "id": "49f63f87",
   "metadata": {},
   "outputs": [
    {
     "name": "stdout",
     "output_type": "stream",
     "text": [
      "Epoch 1/50\n",
      "110/110 [==============================] - 2s 15ms/step - loss: 30.9502 - accuracy: 0.1494 - val_loss: 4.7096 - val_accuracy: 0.2497\n",
      "Epoch 2/50\n",
      "110/110 [==============================] - 2s 14ms/step - loss: 10.4411 - accuracy: 0.1814 - val_loss: 3.8679 - val_accuracy: 0.2343\n",
      "Epoch 3/50\n",
      "110/110 [==============================] - 2s 14ms/step - loss: 6.9111 - accuracy: 0.1774 - val_loss: 3.5114 - val_accuracy: 0.2497\n",
      "Epoch 4/50\n",
      "110/110 [==============================] - 2s 14ms/step - loss: 5.4312 - accuracy: 0.1983 - val_loss: 3.4240 - val_accuracy: 0.2543\n",
      "Epoch 5/50\n",
      "110/110 [==============================] - 2s 14ms/step - loss: 4.3781 - accuracy: 0.1966 - val_loss: 3.4584 - val_accuracy: 0.2563\n",
      "Epoch 6/50\n",
      "110/110 [==============================] - 2s 14ms/step - loss: 3.9456 - accuracy: 0.2029 - val_loss: 3.3453 - val_accuracy: 0.2991\n",
      "Epoch 7/50\n",
      "110/110 [==============================] - 2s 14ms/step - loss: 3.6846 - accuracy: 0.2446 - val_loss: 3.3500 - val_accuracy: 0.3084\n",
      "Epoch 8/50\n",
      "110/110 [==============================] - 2s 14ms/step - loss: 3.5934 - accuracy: 0.2629 - val_loss: 3.3187 - val_accuracy: 0.3258\n",
      "Epoch 9/50\n",
      "110/110 [==============================] - 2s 14ms/step - loss: 3.5879 - accuracy: 0.2403 - val_loss: 3.3566 - val_accuracy: 0.2911\n",
      "Epoch 10/50\n",
      "110/110 [==============================] - 2s 14ms/step - loss: 3.5031 - accuracy: 0.2675 - val_loss: 3.3007 - val_accuracy: 0.3051\n",
      "Epoch 11/50\n",
      "110/110 [==============================] - 2s 14ms/step - loss: 3.4705 - accuracy: 0.2678 - val_loss: 3.2970 - val_accuracy: 0.3351\n",
      "Epoch 12/50\n",
      "110/110 [==============================] - 2s 14ms/step - loss: 3.3873 - accuracy: 0.2924 - val_loss: 3.2340 - val_accuracy: 0.3558\n",
      "Epoch 13/50\n",
      "110/110 [==============================] - 2s 14ms/step - loss: 3.3526 - accuracy: 0.3019 - val_loss: 3.2517 - val_accuracy: 0.3405\n",
      "Epoch 14/50\n",
      "110/110 [==============================] - 2s 14ms/step - loss: 3.3274 - accuracy: 0.3050 - val_loss: 3.2170 - val_accuracy: 0.3531\n",
      "Epoch 15/50\n",
      "110/110 [==============================] - 2s 14ms/step - loss: 3.2916 - accuracy: 0.3116 - val_loss: 3.1910 - val_accuracy: 0.3505\n",
      "Epoch 16/50\n",
      "110/110 [==============================] - 2s 14ms/step - loss: 3.2616 - accuracy: 0.3213 - val_loss: 3.2141 - val_accuracy: 0.3491\n",
      "Epoch 17/50\n",
      "110/110 [==============================] - 2s 14ms/step - loss: 3.2396 - accuracy: 0.3216 - val_loss: 3.2017 - val_accuracy: 0.3451\n",
      "Epoch 18/50\n",
      "110/110 [==============================] - 2s 16ms/step - loss: 3.1916 - accuracy: 0.3376 - val_loss: 3.1419 - val_accuracy: 0.3611\n",
      "Epoch 19/50\n",
      "110/110 [==============================] - 2s 16ms/step - loss: 3.2066 - accuracy: 0.3393 - val_loss: 3.1663 - val_accuracy: 0.3585\n",
      "Epoch 20/50\n",
      "110/110 [==============================] - 2s 15ms/step - loss: 3.1928 - accuracy: 0.3399 - val_loss: 3.1862 - val_accuracy: 0.3705\n",
      "Epoch 21/50\n",
      "110/110 [==============================] - 2s 14ms/step - loss: 3.1619 - accuracy: 0.3536 - val_loss: 3.1790 - val_accuracy: 0.3625\n",
      "Epoch 22/50\n",
      "110/110 [==============================] - 2s 14ms/step - loss: 3.1363 - accuracy: 0.3551 - val_loss: 3.2229 - val_accuracy: 0.3511\n",
      "Epoch 23/50\n",
      "110/110 [==============================] - 2s 14ms/step - loss: 3.1138 - accuracy: 0.3482 - val_loss: 3.1319 - val_accuracy: 0.3712\n",
      "Epoch 24/50\n",
      "110/110 [==============================] - 2s 14ms/step - loss: 3.0715 - accuracy: 0.3722 - val_loss: 3.1337 - val_accuracy: 0.3678\n",
      "Epoch 25/50\n",
      "110/110 [==============================] - 2s 14ms/step - loss: 3.0891 - accuracy: 0.3631 - val_loss: 3.0946 - val_accuracy: 0.3812\n",
      "Epoch 26/50\n",
      "110/110 [==============================] - 2s 14ms/step - loss: 3.0557 - accuracy: 0.3694 - val_loss: 3.1549 - val_accuracy: 0.3538\n",
      "Epoch 27/50\n",
      "110/110 [==============================] - 2s 14ms/step - loss: 3.0592 - accuracy: 0.3780 - val_loss: 3.0745 - val_accuracy: 0.3952\n",
      "Epoch 28/50\n",
      "110/110 [==============================] - 2s 14ms/step - loss: 3.0348 - accuracy: 0.3631 - val_loss: 3.1242 - val_accuracy: 0.3652\n",
      "Epoch 29/50\n",
      "110/110 [==============================] - 2s 14ms/step - loss: 2.9976 - accuracy: 0.3728 - val_loss: 3.0963 - val_accuracy: 0.3638\n",
      "Epoch 30/50\n",
      "110/110 [==============================] - 2s 14ms/step - loss: 2.9866 - accuracy: 0.3817 - val_loss: 3.0818 - val_accuracy: 0.3698\n",
      "Epoch 31/50\n",
      "110/110 [==============================] - 2s 14ms/step - loss: 2.9509 - accuracy: 0.3817 - val_loss: 3.0449 - val_accuracy: 0.3765\n",
      "Epoch 32/50\n",
      "110/110 [==============================] - 2s 14ms/step - loss: 2.9161 - accuracy: 0.3871 - val_loss: 3.0584 - val_accuracy: 0.3899\n",
      "Epoch 33/50\n",
      "110/110 [==============================] - 2s 14ms/step - loss: 2.9279 - accuracy: 0.3883 - val_loss: 3.0287 - val_accuracy: 0.3919\n",
      "Epoch 34/50\n",
      "110/110 [==============================] - 2s 14ms/step - loss: 2.9026 - accuracy: 0.3880 - val_loss: 3.0253 - val_accuracy: 0.3892\n",
      "Epoch 35/50\n",
      "110/110 [==============================] - 2s 14ms/step - loss: 2.8702 - accuracy: 0.4109 - val_loss: 3.0340 - val_accuracy: 0.3838\n",
      "Epoch 36/50\n",
      "110/110 [==============================] - 2s 14ms/step - loss: 2.8403 - accuracy: 0.4149 - val_loss: 3.1503 - val_accuracy: 0.3618\n",
      "Epoch 37/50\n",
      "110/110 [==============================] - 2s 14ms/step - loss: 2.8414 - accuracy: 0.4112 - val_loss: 2.9986 - val_accuracy: 0.3919\n",
      "Epoch 38/50\n",
      "110/110 [==============================] - 2s 14ms/step - loss: 2.8384 - accuracy: 0.4043 - val_loss: 3.0207 - val_accuracy: 0.3632\n",
      "Epoch 39/50\n",
      "110/110 [==============================] - 2s 14ms/step - loss: 2.8192 - accuracy: 0.4137 - val_loss: 2.9773 - val_accuracy: 0.3892\n",
      "Epoch 40/50\n",
      "110/110 [==============================] - 2s 14ms/step - loss: 2.7847 - accuracy: 0.4226 - val_loss: 2.9975 - val_accuracy: 0.3932\n",
      "Epoch 41/50\n",
      "110/110 [==============================] - 2s 14ms/step - loss: 2.7730 - accuracy: 0.4212 - val_loss: 2.9624 - val_accuracy: 0.3985\n",
      "Epoch 42/50\n",
      "110/110 [==============================] - 2s 14ms/step - loss: 2.7746 - accuracy: 0.4215 - val_loss: 2.9504 - val_accuracy: 0.3852\n",
      "Epoch 43/50\n",
      "110/110 [==============================] - 2s 14ms/step - loss: 2.7492 - accuracy: 0.4260 - val_loss: 2.9818 - val_accuracy: 0.3858\n",
      "Epoch 44/50\n",
      "110/110 [==============================] - 2s 14ms/step - loss: 2.7169 - accuracy: 0.4378 - val_loss: 2.9337 - val_accuracy: 0.3925\n",
      "Epoch 45/50\n",
      "110/110 [==============================] - 2s 14ms/step - loss: 2.6944 - accuracy: 0.4363 - val_loss: 2.9637 - val_accuracy: 0.3972\n",
      "Epoch 46/50\n",
      "110/110 [==============================] - 2s 14ms/step - loss: 2.6675 - accuracy: 0.4461 - val_loss: 3.0299 - val_accuracy: 0.3792\n",
      "Epoch 47/50\n",
      "110/110 [==============================] - 2s 14ms/step - loss: 2.6786 - accuracy: 0.4346 - val_loss: 2.9180 - val_accuracy: 0.4119\n",
      "Epoch 48/50\n",
      "110/110 [==============================] - 2s 14ms/step - loss: 2.6383 - accuracy: 0.4469 - val_loss: 2.9624 - val_accuracy: 0.4112\n",
      "Epoch 49/50\n",
      "110/110 [==============================] - 2s 14ms/step - loss: 2.6145 - accuracy: 0.4627 - val_loss: 2.9326 - val_accuracy: 0.4192\n",
      "Epoch 50/50\n",
      "110/110 [==============================] - 2s 14ms/step - loss: 2.6159 - accuracy: 0.4595 - val_loss: 2.8832 - val_accuracy: 0.4099\n"
     ]
    }
   ],
   "source": [
    "history = model.fit(X_train, y_train,\n",
    "          validation_data=(X_test, y_test),\n",
    "          epochs=50,\n",
    "          batch_size=32)"
   ]
  },
  {
   "cell_type": "code",
   "execution_count": 31,
   "id": "b84f2a78",
   "metadata": {},
   "outputs": [
    {
     "data": {
      "text/plain": [
       "<matplotlib.legend.Legend at 0x20fbb2b9a00>"
      ]
     },
     "execution_count": 31,
     "metadata": {},
     "output_type": "execute_result"
    },
    {
     "data": {
      "image/png": "[encoded data removed]",
      "text/plain": [
       "<Figure size 640x480 with 2 Axes>"
      ]
     },
     "metadata": {},
     "output_type": "display_data"
    }
   ],
   "source": [
    "fig, axes = plt.subplots(2)\n",
    "\n",
    "axes[0].plot(history.history[\"accuracy\"], label=\"train accuracy\")\n",
    "axes[0].plot(history.history[\"val_accuracy\"], label=\"test accuracy\")\n",
    "axes[0].set_ylabel(\"Accuracy\")\n",
    "axes[0].legend(loc=\"lower right\")\n",
    "\n",
    "axes[1].plot(history.history[\"loss\"], label=\"train loss\")\n",
    "axes[1].plot(history.history[\"val_loss\"], label=\"test loss\")\n",
    "axes[1].set_ylabel(\"Loss\")\n",
    "axes[1].set_xlabel(\"Epoch\")\n",
    "axes[1].legend(loc=\"upper right\")"
   ]
  },
  {
   "cell_type": "code",
   "execution_count": null,
   "id": "9d84b7c6",
   "metadata": {},
   "outputs": [],
   "source": []
  }
 ],
 "metadata": {
  "kernelspec": {
   "display_name": "Python 3 (ipykernel)",
   "language": "python",
   "name": "python3"
  },
  "language_info": {
   "codemirror_mode": {
    "name": "ipython",
    "version": 3
   },
   "file_extension": ".py",
   "mimetype": "text/x-python",
   "name": "python",
   "nbconvert_exporter": "python",
   "pygments_lexer": "ipython3",
   "version": "3.9.13"
  }
 },
 "nbformat": 4,
 "nbformat_minor": 5
}
