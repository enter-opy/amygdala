{
 "cells": [
  {
   "cell_type": "code",
   "execution_count": 12,
   "id": "11d0bb4e",
   "metadata": {},
   "outputs": [],
   "source": [
    "import json\n",
    "import numpy as np\n",
    "from sklearn.model_selection import train_test_split\n",
    "import tensorflow.keras as keras"
   ]
  },
  {
   "cell_type": "code",
   "execution_count": 6,
   "id": "c30dbd95",
   "metadata": {},
   "outputs": [],
   "source": [
    "dataset_path = 'data.json'"
   ]
  },
  {
   "cell_type": "code",
   "execution_count": 8,
   "id": "2a640ac4",
   "metadata": {},
   "outputs": [],
   "source": [
    "with open(dataset_path, 'r') as fp:\n",
    "    data = json.load(fp)"
   ]
  },
  {
   "cell_type": "code",
   "execution_count": 9,
   "id": "52d7b733",
   "metadata": {},
   "outputs": [],
   "source": [
    "inputs = np.array(data['mfcc'])\n",
    "targets = np.array(data['labels'])"
   ]
  },
  {
   "cell_type": "code",
   "execution_count": 13,
   "id": "1d687cbf",
   "metadata": {},
   "outputs": [],
   "source": [
    "X_train, X_test, y_train, y_test = train_test_split(inputs, targets, test_size=0.3)"
   ]
  },
  {
   "cell_type": "code",
   "execution_count": 17,
   "id": "7281a66e",
   "metadata": {},
   "outputs": [
    {
     "data": {
      "text/plain": [
       "(4993, 259, 13)"
      ]
     },
     "execution_count": 17,
     "metadata": {},
     "output_type": "execute_result"
    }
   ],
   "source": [
    "inputs.shape"
   ]
  },
  {
   "cell_type": "code",
   "execution_count": 19,
   "id": "13274f21",
   "metadata": {},
   "outputs": [],
   "source": [
    "model = keras.Sequential([\n",
    "    keras.layers.Flatten(input_shape=(inputs.shape[1], inputs.shape[2])),\n",
    "    \n",
    "    keras.layers.Dense(512, activation='relu'),\n",
    "    keras.layers.Dense(256, activation='relu'),\n",
    "    keras.layers.Dense(64, activation='relu'),\n",
    "    \n",
    "    keras.layers.Dense(10, activation='softmax')\n",
    "])"
   ]
  },
  {
   "cell_type": "code",
   "execution_count": 26,
   "id": "2ba8b2d2",
   "metadata": {},
   "outputs": [],
   "source": [
    "model.compile(optimizer=keras.optimizers.Adam(learning_rate=0.0001),\n",
    "             loss='sparse_categorical_crossentropy',\n",
    "             metrics=['accuracy'])"
   ]
  },
  {
   "cell_type": "code",
   "execution_count": 27,
   "id": "375eeb61",
   "metadata": {},
   "outputs": [
    {
     "name": "stdout",
     "output_type": "stream",
     "text": [
      "Model: \"sequential\"\n",
      "_________________________________________________________________\n",
      " Layer (type)                Output Shape              Param #   \n",
      "=================================================================\n",
      " flatten (Flatten)           (None, 3367)              0         \n",
      "                                                                 \n",
      " dense (Dense)               (None, 512)               1724416   \n",
      "                                                                 \n",
      " dense_1 (Dense)             (None, 256)               131328    \n",
      "                                                                 \n",
      " dense_2 (Dense)             (None, 64)                16448     \n",
      "                                                                 \n",
      " dense_3 (Dense)             (None, 10)                650       \n",
      "                                                                 \n",
      "=================================================================\n",
      "Total params: 1,872,842\n",
      "Trainable params: 1,872,842\n",
      "Non-trainable params: 0\n",
      "_________________________________________________________________\n"
     ]
    }
   ],
   "source": [
    "model.summary()"
   ]
  },
  {
   "cell_type": "code",
   "execution_count": 28,
   "id": "49f63f87",
   "metadata": {},
   "outputs": [
    {
     "name": "stdout",
     "output_type": "stream",
     "text": [
      "Epoch 1/50\n",
      "110/110 [==============================] - 1s 8ms/step - loss: 12.7150 - accuracy: 0.2793 - val_loss: 5.6831 - val_accuracy: 0.3652\n",
      "Epoch 2/50\n",
      "110/110 [==============================] - 1s 7ms/step - loss: 4.0411 - accuracy: 0.4137 - val_loss: 3.9577 - val_accuracy: 0.3892\n",
      "Epoch 3/50\n",
      "110/110 [==============================] - 1s 7ms/step - loss: 2.6457 - accuracy: 0.4861 - val_loss: 3.4230 - val_accuracy: 0.4025\n",
      "Epoch 4/50\n",
      "110/110 [==============================] - 1s 8ms/step - loss: 2.0248 - accuracy: 0.5353 - val_loss: 3.0301 - val_accuracy: 0.3985\n",
      "Epoch 5/50\n",
      "110/110 [==============================] - 1s 8ms/step - loss: 1.5225 - accuracy: 0.5848 - val_loss: 2.9085 - val_accuracy: 0.3752\n",
      "Epoch 6/50\n",
      "110/110 [==============================] - 1s 8ms/step - loss: 1.3068 - accuracy: 0.6269 - val_loss: 2.7844 - val_accuracy: 0.4179\n",
      "Epoch 7/50\n",
      "110/110 [==============================] - 1s 8ms/step - loss: 1.0976 - accuracy: 0.6695 - val_loss: 2.6771 - val_accuracy: 0.4426\n",
      "Epoch 8/50\n",
      "110/110 [==============================] - 1s 8ms/step - loss: 0.8727 - accuracy: 0.7273 - val_loss: 2.7072 - val_accuracy: 0.4466\n",
      "Epoch 9/50\n",
      "110/110 [==============================] - 1s 8ms/step - loss: 0.8334 - accuracy: 0.7376 - val_loss: 2.6214 - val_accuracy: 0.4306\n",
      "Epoch 10/50\n",
      "110/110 [==============================] - 1s 8ms/step - loss: 0.6310 - accuracy: 0.7891 - val_loss: 2.5793 - val_accuracy: 0.4786\n",
      "Epoch 11/50\n",
      "110/110 [==============================] - 1s 8ms/step - loss: 0.4999 - accuracy: 0.8381 - val_loss: 2.8651 - val_accuracy: 0.4666\n",
      "Epoch 12/50\n",
      "110/110 [==============================] - 1s 8ms/step - loss: 0.4288 - accuracy: 0.8615 - val_loss: 2.6876 - val_accuracy: 0.4726\n",
      "Epoch 13/50\n",
      "110/110 [==============================] - 1s 8ms/step - loss: 0.4799 - accuracy: 0.8412 - val_loss: 2.8859 - val_accuracy: 0.4599\n",
      "Epoch 14/50\n",
      "110/110 [==============================] - 1s 8ms/step - loss: 0.3706 - accuracy: 0.8773 - val_loss: 2.7375 - val_accuracy: 0.4853\n",
      "Epoch 15/50\n",
      "110/110 [==============================] - 1s 8ms/step - loss: 0.3063 - accuracy: 0.8999 - val_loss: 2.9802 - val_accuracy: 0.5013\n",
      "Epoch 16/50\n",
      "110/110 [==============================] - 1s 8ms/step - loss: 0.3470 - accuracy: 0.8833 - val_loss: 2.9160 - val_accuracy: 0.4720\n",
      "Epoch 17/50\n",
      "110/110 [==============================] - 1s 8ms/step - loss: 0.3599 - accuracy: 0.8770 - val_loss: 2.6697 - val_accuracy: 0.4973\n",
      "Epoch 18/50\n",
      "110/110 [==============================] - 1s 8ms/step - loss: 0.2209 - accuracy: 0.9256 - val_loss: 2.9657 - val_accuracy: 0.4873\n",
      "Epoch 19/50\n",
      "110/110 [==============================] - 1s 8ms/step - loss: 0.2966 - accuracy: 0.9016 - val_loss: 2.7762 - val_accuracy: 0.5227\n",
      "Epoch 20/50\n",
      "110/110 [==============================] - 1s 8ms/step - loss: 0.2533 - accuracy: 0.9210 - val_loss: 3.0299 - val_accuracy: 0.4947\n",
      "Epoch 21/50\n",
      "110/110 [==============================] - 1s 8ms/step - loss: 0.2449 - accuracy: 0.9242 - val_loss: 3.0870 - val_accuracy: 0.5134\n",
      "Epoch 22/50\n",
      "110/110 [==============================] - 1s 8ms/step - loss: 0.3045 - accuracy: 0.9001 - val_loss: 3.4748 - val_accuracy: 0.5053\n",
      "Epoch 23/50\n",
      "110/110 [==============================] - 1s 8ms/step - loss: 1.1150 - accuracy: 0.7187 - val_loss: 2.8258 - val_accuracy: 0.4960\n",
      "Epoch 24/50\n",
      "110/110 [==============================] - 1s 8ms/step - loss: 0.5045 - accuracy: 0.8469 - val_loss: 3.0158 - val_accuracy: 0.4780\n",
      "Epoch 25/50\n",
      "110/110 [==============================] - 1s 8ms/step - loss: 0.3725 - accuracy: 0.8830 - val_loss: 2.8415 - val_accuracy: 0.5207\n",
      "Epoch 26/50\n",
      "110/110 [==============================] - 1s 8ms/step - loss: 0.1554 - accuracy: 0.9514 - val_loss: 2.6646 - val_accuracy: 0.5481\n",
      "Epoch 27/50\n",
      "110/110 [==============================] - 1s 8ms/step - loss: 0.1276 - accuracy: 0.9554 - val_loss: 2.8066 - val_accuracy: 0.5107\n",
      "Epoch 28/50\n",
      "110/110 [==============================] - 1s 8ms/step - loss: 0.1076 - accuracy: 0.9648 - val_loss: 2.9576 - val_accuracy: 0.5274\n",
      "Epoch 29/50\n",
      "110/110 [==============================] - 1s 8ms/step - loss: 0.0720 - accuracy: 0.9794 - val_loss: 3.0743 - val_accuracy: 0.5401\n",
      "Epoch 30/50\n",
      "110/110 [==============================] - 1s 8ms/step - loss: 0.0420 - accuracy: 0.9903 - val_loss: 3.0357 - val_accuracy: 0.5354\n",
      "Epoch 31/50\n",
      "110/110 [==============================] - 1s 8ms/step - loss: 0.0737 - accuracy: 0.9800 - val_loss: 3.0185 - val_accuracy: 0.5187\n",
      "Epoch 32/50\n",
      "110/110 [==============================] - 1s 8ms/step - loss: 0.1370 - accuracy: 0.9568 - val_loss: 2.9368 - val_accuracy: 0.5200\n",
      "Epoch 33/50\n",
      "110/110 [==============================] - 1s 8ms/step - loss: 0.0852 - accuracy: 0.9751 - val_loss: 3.9429 - val_accuracy: 0.4786\n",
      "Epoch 34/50\n",
      "110/110 [==============================] - 1s 8ms/step - loss: 1.1491 - accuracy: 0.7233 - val_loss: 3.1628 - val_accuracy: 0.5007\n",
      "Epoch 35/50\n",
      "110/110 [==============================] - 1s 8ms/step - loss: 0.7079 - accuracy: 0.7983 - val_loss: 3.3545 - val_accuracy: 0.4786\n",
      "Epoch 36/50\n",
      "110/110 [==============================] - 1s 8ms/step - loss: 0.3338 - accuracy: 0.8970 - val_loss: 2.7531 - val_accuracy: 0.5414\n",
      "Epoch 37/50\n",
      "110/110 [==============================] - 1s 8ms/step - loss: 0.2231 - accuracy: 0.9316 - val_loss: 2.9571 - val_accuracy: 0.5347\n",
      "Epoch 38/50\n",
      "110/110 [==============================] - 1s 8ms/step - loss: 0.2380 - accuracy: 0.9279 - val_loss: 2.9218 - val_accuracy: 0.5501\n",
      "Epoch 39/50\n",
      "110/110 [==============================] - 1s 8ms/step - loss: 0.0573 - accuracy: 0.9831 - val_loss: 2.8388 - val_accuracy: 0.5427\n",
      "Epoch 40/50\n",
      "110/110 [==============================] - 1s 8ms/step - loss: 0.0416 - accuracy: 0.9891 - val_loss: 2.9609 - val_accuracy: 0.5587\n",
      "Epoch 41/50\n",
      "110/110 [==============================] - 1s 8ms/step - loss: 0.0454 - accuracy: 0.9883 - val_loss: 3.2261 - val_accuracy: 0.5441\n",
      "Epoch 42/50\n",
      "110/110 [==============================] - 1s 8ms/step - loss: 0.0397 - accuracy: 0.9900 - val_loss: 2.9339 - val_accuracy: 0.5721\n",
      "Epoch 43/50\n",
      "110/110 [==============================] - 1s 8ms/step - loss: 0.0153 - accuracy: 0.9977 - val_loss: 3.0243 - val_accuracy: 0.5774\n",
      "Epoch 44/50\n",
      "110/110 [==============================] - 1s 8ms/step - loss: 0.0141 - accuracy: 0.9974 - val_loss: 2.9713 - val_accuracy: 0.5714\n",
      "Epoch 45/50\n",
      "110/110 [==============================] - 1s 8ms/step - loss: 0.0094 - accuracy: 0.9989 - val_loss: 3.0232 - val_accuracy: 0.5748\n",
      "Epoch 46/50\n",
      "110/110 [==============================] - 1s 8ms/step - loss: 0.0523 - accuracy: 0.9845 - val_loss: 3.2078 - val_accuracy: 0.5494\n",
      "Epoch 47/50\n",
      "110/110 [==============================] - 1s 8ms/step - loss: 0.3548 - accuracy: 0.8916 - val_loss: 3.4942 - val_accuracy: 0.5180\n",
      "Epoch 48/50\n",
      "110/110 [==============================] - 1s 8ms/step - loss: 0.6129 - accuracy: 0.8466 - val_loss: 3.7422 - val_accuracy: 0.4927\n",
      "Epoch 49/50\n",
      "110/110 [==============================] - 1s 8ms/step - loss: 0.3347 - accuracy: 0.9030 - val_loss: 3.1240 - val_accuracy: 0.5587\n",
      "Epoch 50/50\n",
      "110/110 [==============================] - 1s 8ms/step - loss: 0.2039 - accuracy: 0.9371 - val_loss: 3.1118 - val_accuracy: 0.5260\n"
     ]
    },
    {
     "data": {
      "text/plain": [
       "<keras.callbacks.History at 0x254a423ab80>"
      ]
     },
     "execution_count": 28,
     "metadata": {},
     "output_type": "execute_result"
    }
   ],
   "source": [
    "model.fit(X_train, y_train,\n",
    "          validation_data=(X_test, y_test),\n",
    "          epochs=50,\n",
    "          batch_size=32)"
   ]
  }
 ],
 "metadata": {
  "kernelspec": {
   "display_name": "Python 3 (ipykernel)",
   "language": "python",
   "name": "python3"
  },
  "language_info": {
   "codemirror_mode": {
    "name": "ipython",
    "version": 3
   },
   "file_extension": ".py",
   "mimetype": "text/x-python",
   "name": "python",
   "nbconvert_exporter": "python",
   "pygments_lexer": "ipython3",
   "version": "3.9.13"
  }
 },
 "nbformat": 4,
 "nbformat_minor": 5
}
