{
 "cells": [
  {
   "cell_type": "code",
   "execution_count": 3,
   "id": "11d0bb4e",
   "metadata": {},
   "outputs": [],
   "source": [
    "import sys\n",
    "sys.path.append('C:\\RTNeural\\python')\n",
    "\n",
    "import json\n",
    "import numpy as np\n",
    "from sklearn.model_selection import train_test_split\n",
    "import tensorflow.keras as keras\n",
    "import matplotlib.pyplot as plt\n",
    "from model_utils import save_model"
   ]
  },
  {
   "cell_type": "code",
   "execution_count": 4,
   "id": "c30dbd95",
   "metadata": {},
   "outputs": [],
   "source": [
    "dataset_path = 'data.json'"
   ]
  },
  {
   "cell_type": "code",
   "execution_count": 5,
   "id": "2a640ac4",
   "metadata": {},
   "outputs": [],
   "source": [
    "with open(dataset_path, 'r') as fp:\n",
    "    data = json.load(fp)"
   ]
  },
  {
   "cell_type": "code",
   "execution_count": 6,
   "id": "52d7b733",
   "metadata": {},
   "outputs": [],
   "source": [
    "inputs = np.array(data['mfcc'])\n",
    "targets = np.array(data['labels'])"
   ]
  },
  {
   "cell_type": "code",
   "execution_count": 7,
   "id": "1d687cbf",
   "metadata": {},
   "outputs": [],
   "source": [
    "X_train, X_test, y_train, y_test = train_test_split(inputs, targets, test_size=0.25)\n",
    "X_train, X_validation, y_train, y_validation = train_test_split(inputs, targets, test_size=0.2)"
   ]
  },
  {
   "cell_type": "code",
   "execution_count": 8,
   "id": "be5ff958",
   "metadata": {},
   "outputs": [],
   "source": [
    "X_train = X_train[..., np.newaxis]\n",
    "X_validation = X_validation[..., np.newaxis]\n",
    "X_test = X_test[..., np.newaxis]"
   ]
  },
  {
   "cell_type": "code",
   "execution_count": 9,
   "id": "7281a66e",
   "metadata": {},
   "outputs": [
    {
     "data": {
      "text/plain": [
       "(3994, 259, 13, 1)"
      ]
     },
     "execution_count": 9,
     "metadata": {},
     "output_type": "execute_result"
    }
   ],
   "source": [
    "X_train.shape"
   ]
  },
  {
   "cell_type": "code",
   "execution_count": 10,
   "id": "3632bdf8",
   "metadata": {},
   "outputs": [
    {
     "data": {
      "text/plain": [
       "259"
      ]
     },
     "execution_count": 10,
     "metadata": {},
     "output_type": "execute_result"
    }
   ],
   "source": [
    "len(X_train[0])"
   ]
  },
  {
   "cell_type": "code",
   "execution_count": 11,
   "id": "13274f21",
   "metadata": {},
   "outputs": [],
   "source": [
    "model = keras.Sequential([\n",
    "    keras.layers.Conv2D(32, (3, 3), activation='relu', input_shape=X_train[0].shape),\n",
    "    keras.layers.MaxPool2D((3, 3), strides=(2, 2), padding='same'),\n",
    "    keras.layers.BatchNormalization(),\n",
    "    \n",
    "    keras.layers.Conv2D(32, (3, 3), activation='relu'),\n",
    "    keras.layers.MaxPool2D((3, 3), strides=(2, 2), padding='same'),\n",
    "    keras.layers.BatchNormalization(),\n",
    "    \n",
    "    keras.layers.Conv2D(32, (2, 2), activation='relu'),\n",
    "    keras.layers.MaxPool2D((2, 2), strides=(2, 2), padding='same'),\n",
    "    keras.layers.BatchNormalization(),\n",
    "    \n",
    "    keras.layers.Flatten(),\n",
    "    \n",
    "    keras.layers.Dense(64, activation='relu'),\n",
    "    keras.layers.Dropout(0.3),\n",
    "    \n",
    "    keras.layers.Dense(256, activation='relu'),\n",
    "    keras.layers.Dropout(0.3),\n",
    "    \n",
    "    keras.layers.Dense(64, activation='relu'),\n",
    "    keras.layers.Dropout(0.3),\n",
    "    \n",
    "    keras.layers.Dense(10, activation='softmax')\n",
    "])"
   ]
  },
  {
   "cell_type": "code",
   "execution_count": 12,
   "id": "2ba8b2d2",
   "metadata": {},
   "outputs": [],
   "source": [
    "model.compile(optimizer=keras.optimizers.Adam(learning_rate=0.0001),\n",
    "             loss='sparse_categorical_crossentropy',\n",
    "             metrics=['accuracy'])"
   ]
  },
  {
   "cell_type": "code",
   "execution_count": 13,
   "id": "375eeb61",
   "metadata": {},
   "outputs": [
    {
     "name": "stdout",
     "output_type": "stream",
     "text": [
      "Model: \"sequential\"\n",
      "_________________________________________________________________\n",
      " Layer (type)                Output Shape              Param #   \n",
      "=================================================================\n",
      " conv2d (Conv2D)             (None, 257, 11, 32)       320       \n",
      "                                                                 \n",
      " max_pooling2d (MaxPooling2D  (None, 129, 6, 32)       0         \n",
      " )                                                               \n",
      "                                                                 \n",
      " batch_normalization (BatchN  (None, 129, 6, 32)       128       \n",
      " ormalization)                                                   \n",
      "                                                                 \n",
      " conv2d_1 (Conv2D)           (None, 127, 4, 32)        9248      \n",
      "                                                                 \n",
      " max_pooling2d_1 (MaxPooling  (None, 64, 2, 32)        0         \n",
      " 2D)                                                             \n",
      "                                                                 \n",
      " batch_normalization_1 (Batc  (None, 64, 2, 32)        128       \n",
      " hNormalization)                                                 \n",
      "                                                                 \n",
      " conv2d_2 (Conv2D)           (None, 63, 1, 32)         4128      \n",
      "                                                                 \n",
      " max_pooling2d_2 (MaxPooling  (None, 32, 1, 32)        0         \n",
      " 2D)                                                             \n",
      "                                                                 \n",
      " batch_normalization_2 (Batc  (None, 32, 1, 32)        128       \n",
      " hNormalization)                                                 \n",
      "                                                                 \n",
      " flatten (Flatten)           (None, 1024)              0         \n",
      "                                                                 \n",
      " dense (Dense)               (None, 64)                65600     \n",
      "                                                                 \n",
      " dropout (Dropout)           (None, 64)                0         \n",
      "                                                                 \n",
      " dense_1 (Dense)             (None, 256)               16640     \n",
      "                                                                 \n",
      " dropout_1 (Dropout)         (None, 256)               0         \n",
      "                                                                 \n",
      " dense_2 (Dense)             (None, 64)                16448     \n",
      "                                                                 \n",
      " dropout_2 (Dropout)         (None, 64)                0         \n",
      "                                                                 \n",
      " dense_3 (Dense)             (None, 10)                650       \n",
      "                                                                 \n",
      "=================================================================\n",
      "Total params: 113,418\n",
      "Trainable params: 113,226\n",
      "Non-trainable params: 192\n",
      "_________________________________________________________________\n"
     ]
    }
   ],
   "source": [
    "model.summary()"
   ]
  },
  {
   "cell_type": "code",
   "execution_count": null,
   "id": "49f63f87",
   "metadata": {},
   "outputs": [
    {
     "name": "stdout",
     "output_type": "stream",
     "text": [
      "Epoch 1/50\n",
      "125/125 [==============================] - 5s 37ms/step - loss: 2.4103 - accuracy: 0.1259 - val_loss: 2.1466 - val_accuracy: 0.2492\n",
      "Epoch 2/50\n",
      "125/125 [==============================] - 6s 48ms/step - loss: 2.1776 - accuracy: 0.2166 - val_loss: 1.9523 - val_accuracy: 0.3654\n",
      "Epoch 3/50\n",
      "125/125 [==============================] - 6s 46ms/step - loss: 1.9962 - accuracy: 0.2892 - val_loss: 1.7062 - val_accuracy: 0.4364\n",
      "Epoch 4/50\n",
      "125/125 [==============================] - 5s 41ms/step - loss: 1.8331 - accuracy: 0.3358 - val_loss: 1.5288 - val_accuracy: 0.4464\n",
      "Epoch 5/50\n",
      "125/125 [==============================] - 5s 37ms/step - loss: 1.7187 - accuracy: 0.3741 - val_loss: 1.4019 - val_accuracy: 0.5115\n",
      "Epoch 6/50\n",
      "125/125 [==============================] - 5s 37ms/step - loss: 1.6420 - accuracy: 0.4144 - val_loss: 1.3340 - val_accuracy: 0.5175\n",
      "Epoch 7/50\n",
      "125/125 [==============================] - 5s 38ms/step - loss: 1.5517 - accuracy: 0.4367 - val_loss: 1.2717 - val_accuracy: 0.5455\n",
      "Epoch 8/50\n",
      "125/125 [==============================] - 4s 36ms/step - loss: 1.5244 - accuracy: 0.4427 - val_loss: 1.2437 - val_accuracy: 0.5586\n",
      "Epoch 9/50\n",
      "125/125 [==============================] - 4s 34ms/step - loss: 1.4521 - accuracy: 0.4667 - val_loss: 1.2044 - val_accuracy: 0.5736\n",
      "Epoch 10/50\n",
      "125/125 [==============================] - 4s 34ms/step - loss: 1.4389 - accuracy: 0.4780 - val_loss: 1.1685 - val_accuracy: 0.5946\n",
      "Epoch 11/50\n",
      "125/125 [==============================] - 4s 34ms/step - loss: 1.3811 - accuracy: 0.5010 - val_loss: 1.1575 - val_accuracy: 0.5916\n",
      "Epoch 12/50\n",
      "125/125 [==============================] - 4s 34ms/step - loss: 1.3375 - accuracy: 0.5175 - val_loss: 1.1105 - val_accuracy: 0.6126\n",
      "Epoch 13/50\n",
      "125/125 [==============================] - 4s 34ms/step - loss: 1.3289 - accuracy: 0.5188 - val_loss: 1.0912 - val_accuracy: 0.6256\n",
      "Epoch 14/50\n",
      "125/125 [==============================] - 4s 35ms/step - loss: 1.2946 - accuracy: 0.5280 - val_loss: 1.0594 - val_accuracy: 0.6296\n",
      "Epoch 15/50\n",
      "125/125 [==============================] - 4s 34ms/step - loss: 1.2241 - accuracy: 0.5603 - val_loss: 1.0397 - val_accuracy: 0.6366\n",
      "Epoch 16/50\n",
      "125/125 [==============================] - 4s 35ms/step - loss: 1.2019 - accuracy: 0.5714 - val_loss: 1.0169 - val_accuracy: 0.6396\n",
      "Epoch 17/50\n",
      "125/125 [==============================] - 4s 36ms/step - loss: 1.1645 - accuracy: 0.5891 - val_loss: 0.9755 - val_accuracy: 0.6737\n",
      "Epoch 18/50\n",
      "125/125 [==============================] - 5s 37ms/step - loss: 1.1226 - accuracy: 0.5949 - val_loss: 0.9761 - val_accuracy: 0.6647\n",
      "Epoch 19/50\n",
      "125/125 [==============================] - 5s 37ms/step - loss: 1.1003 - accuracy: 0.6189 - val_loss: 0.9657 - val_accuracy: 0.6667\n",
      "Epoch 20/50\n",
      "125/125 [==============================] - 4s 36ms/step - loss: 1.0777 - accuracy: 0.6187 - val_loss: 0.9271 - val_accuracy: 0.6917\n",
      "Epoch 21/50\n",
      "125/125 [==============================] - 4s 35ms/step - loss: 1.0276 - accuracy: 0.6362 - val_loss: 0.9295 - val_accuracy: 0.6777\n",
      "Epoch 22/50\n",
      "125/125 [==============================] - 4s 35ms/step - loss: 1.0121 - accuracy: 0.6442 - val_loss: 0.8931 - val_accuracy: 0.6917\n",
      "Epoch 23/50\n",
      "125/125 [==============================] - 4s 35ms/step - loss: 0.9720 - accuracy: 0.6590 - val_loss: 0.8927 - val_accuracy: 0.6867\n",
      "Epoch 24/50\n",
      "125/125 [==============================] - 4s 34ms/step - loss: 0.9457 - accuracy: 0.6605 - val_loss: 0.8739 - val_accuracy: 0.6967\n",
      "Epoch 25/50\n",
      "125/125 [==============================] - 4s 34ms/step - loss: 0.9261 - accuracy: 0.6728 - val_loss: 0.8943 - val_accuracy: 0.6857\n",
      "Epoch 26/50\n",
      "125/125 [==============================] - 4s 35ms/step - loss: 0.8960 - accuracy: 0.6750 - val_loss: 0.8856 - val_accuracy: 0.6907\n",
      "Epoch 27/50\n",
      "125/125 [==============================] - 4s 34ms/step - loss: 0.8836 - accuracy: 0.6980 - val_loss: 0.8585 - val_accuracy: 0.6987\n",
      "Epoch 28/50\n",
      "125/125 [==============================] - 4s 35ms/step - loss: 0.8532 - accuracy: 0.7078 - val_loss: 0.8355 - val_accuracy: 0.7007\n",
      "Epoch 29/50\n",
      "125/125 [==============================] - 4s 35ms/step - loss: 0.8193 - accuracy: 0.7246 - val_loss: 0.8689 - val_accuracy: 0.7037\n",
      "Epoch 30/50\n",
      "125/125 [==============================] - 4s 35ms/step - loss: 0.8335 - accuracy: 0.7131 - val_loss: 0.8428 - val_accuracy: 0.7147\n",
      "Epoch 31/50\n",
      "125/125 [==============================] - 4s 35ms/step - loss: 0.7671 - accuracy: 0.7308 - val_loss: 0.8645 - val_accuracy: 0.7057\n",
      "Epoch 32/50\n",
      " 67/125 [===============>..............] - ETA: 1s - loss: 0.7420 - accuracy: 0.7379"
     ]
    }
   ],
   "source": [
    "history = model.fit(X_train, y_train,\n",
    "          validation_data=(X_validation, y_validation),\n",
    "          epochs=50,\n",
    "          batch_size=32)"
   ]
  },
  {
   "cell_type": "code",
   "execution_count": null,
   "id": "b84f2a78",
   "metadata": {},
   "outputs": [],
   "source": [
    "fig, axes = plt.subplots(2)\n",
    "\n",
    "axes[0].plot(history.history[\"accuracy\"], label=\"train accuracy\")\n",
    "axes[0].plot(history.history[\"val_accuracy\"], label=\"test accuracy\")\n",
    "axes[0].set_ylabel(\"Accuracy\")\n",
    "axes[0].legend(loc=\"lower right\")\n",
    "\n",
    "axes[1].plot(history.history[\"loss\"], label=\"train loss\")\n",
    "axes[1].plot(history.history[\"val_loss\"], label=\"test loss\")\n",
    "axes[1].set_ylabel(\"Loss\")\n",
    "axes[1].set_xlabel(\"Epoch\")\n",
    "axes[1].legend(loc=\"upper right\")"
   ]
  },
  {
   "cell_type": "code",
   "execution_count": null,
   "id": "9d84b7c6",
   "metadata": {},
   "outputs": [],
   "source": [
    "prediction = model.predict(X_test)\n",
    "predicted_index = np.argmax(prediction, axis=1)\n",
    "\n",
    "print(\"Expected: {} Predicted: {}\".format(y_test, predicted_index))"
   ]
  },
  {
   "cell_type": "code",
   "execution_count": null,
   "id": "b7533f59",
   "metadata": {},
   "outputs": [],
   "source": [
    "plt.plot(y_test[:100], label=\"Expected\")\n",
    "plt.plot(predicted_index[:100], label=\"Predicted\")\n",
    "plt.legend(loc=\"lower right\")"
   ]
  },
  {
   "cell_type": "code",
   "execution_count": null,
   "id": "8d4477ae",
   "metadata": {},
   "outputs": [],
   "source": [
    "test_error, test_accuracy = model.evaluate(X_test, y_test, verbose=1)\n",
    "print('Accuracy: {}'.format(test_accuracy))"
   ]
  },
  {
   "cell_type": "code",
   "execution_count": null,
   "id": "e0170fa1",
   "metadata": {},
   "outputs": [],
   "source": [
    "save_model(model, 'model_weights.json')"
   ]
  }
 ],
 "metadata": {
  "kernelspec": {
   "display_name": "Python 3 (ipykernel)",
   "language": "python",
   "name": "python3"
  },
  "language_info": {
   "codemirror_mode": {
    "name": "ipython",
    "version": 3
   },
   "file_extension": ".py",
   "mimetype": "text/x-python",
   "name": "python",
   "nbconvert_exporter": "python",
   "pygments_lexer": "ipython3",
   "version": "3.9.13"
  }
 },
 "nbformat": 4,
 "nbformat_minor": 5
}
