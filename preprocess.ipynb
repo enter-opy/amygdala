{
 "cells": [
  {
   "cell_type": "code",
   "execution_count": 1,
   "id": "bc25a018",
   "metadata": {},
   "outputs": [],
   "source": [
    "import os\n",
    "import librosa"
   ]
  },
  {
   "cell_type": "code",
   "execution_count": 6,
   "id": "1b786567",
   "metadata": {},
   "outputs": [],
   "source": [
    "dataset_path = \"dataset\\genres\"\n",
    "fs = 22050"
   ]
  },
  {
   "cell_type": "code",
   "execution_count": 21,
   "id": "9d769c1b",
   "metadata": {},
   "outputs": [],
   "source": [
    "data = {\n",
    "    \"mapping\": [],\n",
    "    \"mfcc\": [],\n",
    "    \"labels\": []\n",
    "}"
   ]
  },
  {
   "cell_type": "code",
   "execution_count": 22,
   "id": "e4a1c0e1",
   "metadata": {},
   "outputs": [
    {
     "name": "stdout",
     "output_type": "stream",
     "text": [
      "{'mapping': ['blues', 'classical', 'country', 'disco', 'hiphop', 'jazz', 'metal', 'pop', 'reggae', 'rock'], 'mfcc': [], 'labels': []}\n"
     ]
    }
   ],
   "source": [
    "for i, (dirpath, dirnames, filenames) in enumerate(os.walk(dataset_path)):\n",
    "    if dirpath is not dataset_path:\n",
    "        dirpath_components = dirpath.split(\"\\\\\")\n",
    "        semantic_label = dirpath_components[-1]\n",
    "        data[\"mapping\"].append(semantic_label)\n",
    "\n",
    "print(data)"
   ]
  }
 ],
 "metadata": {
  "kernelspec": {
   "display_name": "Python 3 (ipykernel)",
   "language": "python",
   "name": "python3"
  },
  "language_info": {
   "codemirror_mode": {
    "name": "ipython",
    "version": 3
   },
   "file_extension": ".py",
   "mimetype": "text/x-python",
   "name": "python",
   "nbconvert_exporter": "python",
   "pygments_lexer": "ipython3",
   "version": "3.9.13"
  }
 },
 "nbformat": 4,
 "nbformat_minor": 5
}
