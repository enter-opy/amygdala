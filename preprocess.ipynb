{
 "cells": [
  {
   "cell_type": "code",
   "execution_count": 11,
   "id": "bc25a018",
   "metadata": {},
   "outputs": [],
   "source": [
    "import os\n",
    "import math\n",
    "import numpy as np\n",
    "import librosa\n",
    "import json"
   ]
  },
  {
   "cell_type": "code",
   "execution_count": 12,
   "id": "1b786567",
   "metadata": {},
   "outputs": [],
   "source": [
    "json_path = \"data.json\"\n",
    "dataset_path = \"dataset\"\n",
    "fs = 22050\n",
    "t = 30\n",
    "samples_per_track = fs * t\n",
    "num_segments = 5\n",
    "samples_per_segment = int(samples_per_track / num_segments)\n",
    "N = 2048\n",
    "H = 512\n",
    "expected_length = math.ceil(samples_per_segment / H)\n",
    "n_mfcc = 13"
   ]
  },
  {
   "cell_type": "code",
   "execution_count": 13,
   "id": "9d769c1b",
   "metadata": {},
   "outputs": [],
   "source": [
    "data = {\n",
    "    \"mapping\": [],\n",
    "    \"mfcc\": [],\n",
    "    \"labels\": []\n",
    "}"
   ]
  },
  {
   "cell_type": "code",
   "execution_count": 14,
   "id": "e4a1c0e1",
   "metadata": {},
   "outputs": [
    {
     "name": "stdout",
     "output_type": "stream",
     "text": [
      "\n",
      "Processing blues\n",
      "\n",
      "Processing classical\n",
      "\n",
      "Processing country\n",
      "\n",
      "Processing disco\n",
      "\n",
      "Processing hiphop\n",
      "\n",
      "Processing jazz\n",
      "\n",
      "Processing metal\n",
      "\n",
      "Processing pop\n",
      "\n",
      "Processing reggae\n",
      "\n",
      "Processing rock\n"
     ]
    }
   ],
   "source": [
    "for i, (dirpath, dirnames, filenames) in enumerate(os.walk(dataset_path)):\n",
    "\n",
    "    if dirpath is not dataset_path:\n",
    "        dirpath_components = dirpath.split(\"\\\\\")\n",
    "        semantic_label = dirpath_components[-1]\n",
    "        data[\"mapping\"].append(semantic_label)\n",
    "        \n",
    "        print(\"\\nProcessing {}\".format(semantic_label))\n",
    "        \n",
    "        for f in filenames:\n",
    "            filepath = os.path.join(dirpath, f)\n",
    "            x, sr = librosa.load(filepath, sr=fs)\n",
    "            \n",
    "            for s in range(num_segments):\n",
    "                start = samples_per_segment * s\n",
    "                end = start + samples_per_segment\n",
    "                \n",
    "                mfcc = librosa.feature.mfcc(y=x[start: end], sr=fs, n_fft=N, n_mfcc=n_mfcc, hop_length=H)\n",
    "                \n",
    "                mfcc = mfcc.T\n",
    "                \n",
    "                if len(mfcc) == expected_length:\n",
    "                    data[\"mfcc\"].append(mfcc.tolist())\n",
    "                    data[\"labels\"].append(i - 1)"
   ]
  },
  {
   "cell_type": "code",
   "execution_count": 15,
   "id": "3f04b400",
   "metadata": {},
   "outputs": [],
   "source": [
    "with open(json_path, 'w') as fp:\n",
    "    json.dump(data, fp, indent=4)"
   ]
  }
 ],
 "metadata": {
  "kernelspec": {
   "display_name": "Python 3 (ipykernel)",
   "language": "python",
   "name": "python3"
  },
  "language_info": {
   "codemirror_mode": {
    "name": "ipython",
    "version": 3
   },
   "file_extension": ".py",
   "mimetype": "text/x-python",
   "name": "python",
   "nbconvert_exporter": "python",
   "pygments_lexer": "ipython3",
   "version": "3.9.13"
  }
 },
 "nbformat": 4,
 "nbformat_minor": 5
}
